{
  "nbformat": 4,
  "nbformat_minor": 0,
  "metadata": {
    "colab": {
      "name": "Untitled6.ipynb",
      "provenance": [],
      "collapsed_sections": []
    },
    "kernelspec": {
      "name": "python3",
      "display_name": "Python 3"
    }
  },
  "cells": [
    {
      "cell_type": "code",
      "metadata": {
        "id": "aIhthlzSFidP",
        "colab_type": "code",
        "colab": {}
      },
      "source": [
        "!pip install 'git+https://github.com/chrka/cip-tagging-exercise.git#egg=tagger&subdirectory=source'\n",
        "!wget http://citypolarna.se/event_data.csv -O /tmp/raw.csv"
      ],
      "execution_count": 0,
      "outputs": []
    },
    {
      "cell_type": "markdown",
      "metadata": {
        "id": "nJQS8uZqMsH2",
        "colab_type": "text"
      },
      "source": [
        "In the finished version, tags_test won't be available (and the API will be prettier)."
      ]
    },
    {
      "cell_type": "code",
      "metadata": {
        "id": "yfJ9kitnCBMc",
        "colab_type": "code",
        "colab": {}
      },
      "source": [
        "from tagger.dataset.cleaning import load_datasets\n",
        "\n",
        "events_train, tags_train, events_test, tags_test, top_tags = load_datasets(\n",
        "    \"/tmp/raw.csv\")"
      ],
      "execution_count": 0,
      "outputs": []
    },
    {
      "cell_type": "code",
      "metadata": {
        "id": "mzCLGzPlNAP8",
        "colab_type": "code",
        "colab": {}
      },
      "source": [
        "from tagger import *\n",
        "from sklearn.pipeline import Pipeline\n",
        "import numpy as np"
      ],
      "execution_count": 0,
      "outputs": []
    },
    {
      "cell_type": "markdown",
      "metadata": {
        "id": "JRjm5K4bM7R8",
        "colab_type": "text"
      },
      "source": [
        "## Bag of words"
      ]
    },
    {
      "cell_type": "code",
      "metadata": {
        "id": "-nazShe3KkIl",
        "colab_type": "code",
        "colab": {}
      },
      "source": [
        "pipeline_bow = Pipeline([\n",
        "        ('html', HTMLToText()),\n",
        "        ('lower', Lowercase()),\n",
        "        ('token', Tokenize()),\n",
        "        ('bow', BagOfWords()),\n",
        "        ('clf', NaiveBayes())\n",
        "    ])"
      ],
      "execution_count": 0,
      "outputs": []
    },
    {
      "cell_type": "code",
      "metadata": {
        "id": "E7OUztMbOB7Q",
        "colab_type": "code",
        "colab": {}
      },
      "source": [
        "pipeline_bow.fit(events_train['description'], tags_train)\n",
        "tags_pred_bow = pipeline_bow.predict(events_test['description'])"
      ],
      "execution_count": 0,
      "outputs": []
    },
    {
      "cell_type": "markdown",
      "metadata": {
        "id": "02IMEnmpORdX",
        "colab_type": "text"
      },
      "source": [
        "Predictions"
      ]
    },
    {
      "cell_type": "code",
      "metadata": {
        "id": "pyZVPQrQOJCS",
        "colab_type": "code",
        "colab": {}
      },
      "source": [
        "tags_pred_bow[0:5]"
      ],
      "execution_count": 0,
      "outputs": []
    },
    {
      "cell_type": "code",
      "metadata": {
        "id": "JmJ1i8qlOPov",
        "colab_type": "code",
        "colab": {}
      },
      "source": [
        ""
      ],
      "execution_count": 0,
      "outputs": []
    },
    {
      "cell_type": "markdown",
      "metadata": {
        "id": "xP4rtv0jO2IH",
        "colab_type": "text"
      },
      "source": [
        "Actual"
      ]
    },
    {
      "cell_type": "code",
      "metadata": {
        "id": "J5BS_izzO2t5",
        "colab_type": "code",
        "colab": {}
      },
      "source": [
        "tags_test[0:5]"
      ],
      "execution_count": 0,
      "outputs": []
    },
    {
      "cell_type": "markdown",
      "metadata": {
        "id": "gq9l9KnGO_TR",
        "colab_type": "text"
      },
      "source": [
        "Per row mean accuracy"
      ]
    },
    {
      "cell_type": "code",
      "metadata": {
        "id": "VxGTmVqvO4L2",
        "colab_type": "code",
        "colab": {}
      },
      "source": [
        "np.mean(tags_pred_bow == tags_test, axis=1)"
      ],
      "execution_count": 0,
      "outputs": []
    },
    {
      "cell_type": "markdown",
      "metadata": {
        "id": "j9-NnighPEYU",
        "colab_type": "text"
      },
      "source": [
        "Subset accuracy"
      ]
    },
    {
      "cell_type": "code",
      "metadata": {
        "id": "Loq7xZPwPGbe",
        "colab_type": "code",
        "colab": {}
      },
      "source": [
        "ssa_bow = np.min(tags_pred_bow == tags_test, axis=1)"
      ],
      "execution_count": 0,
      "outputs": []
    },
    {
      "cell_type": "code",
      "metadata": {
        "id": "9CM0jFk4PI59",
        "colab_type": "code",
        "colab": {}
      },
      "source": [
        "np.mean(ssa_bow)"
      ],
      "execution_count": 0,
      "outputs": []
    },
    {
      "cell_type": "markdown",
      "metadata": {
        "id": "t_W9ffOPPqUm",
        "colab_type": "text"
      },
      "source": [
        "## TfIdf"
      ]
    },
    {
      "cell_type": "code",
      "metadata": {
        "id": "oCbNDVxAPsje",
        "colab_type": "code",
        "colab": {}
      },
      "source": [
        "pipeline_tfidf = Pipeline([\n",
        "        ('html', HTMLToText()),\n",
        "        ('lower', Lowercase()),\n",
        "        ('token', Tokenize()),\n",
        "        ('tfidf', Tfidf()),\n",
        "        ('clf', NaiveBayes())\n",
        "    ])"
      ],
      "execution_count": 0,
      "outputs": []
    },
    {
      "cell_type": "code",
      "metadata": {
        "id": "AkHoIatjP2NG",
        "colab_type": "code",
        "colab": {}
      },
      "source": [
        "pipeline_tfidf.fit(events_train['description'], tags_train)\n",
        "tags_pred_tfidf = pipeline_tfidf.predict(events_test['description'])"
      ],
      "execution_count": 0,
      "outputs": []
    },
    {
      "cell_type": "markdown",
      "metadata": {
        "colab_type": "text",
        "id": "VQIlPIvPQCjx"
      },
      "source": [
        "Per row mean accuracy"
      ]
    },
    {
      "cell_type": "code",
      "metadata": {
        "colab_type": "code",
        "id": "cN20-rXDQCjy",
        "colab": {}
      },
      "source": [
        "np.mean(tags_pred_tfidf == tags_test, axis=1)"
      ],
      "execution_count": 0,
      "outputs": []
    },
    {
      "cell_type": "markdown",
      "metadata": {
        "colab_type": "text",
        "id": "gqTTLwr5QCj0"
      },
      "source": [
        "Subset accuracy"
      ]
    },
    {
      "cell_type": "code",
      "metadata": {
        "colab_type": "code",
        "id": "1B38iADQQCj0",
        "colab": {}
      },
      "source": [
        "ssa_tfidf = np.min(tags_pred_tfidf == tags_test, axis=1)"
      ],
      "execution_count": 0,
      "outputs": []
    },
    {
      "cell_type": "code",
      "metadata": {
        "colab_type": "code",
        "id": "rhNGaAcwQCj1",
        "colab": {}
      },
      "source": [
        "np.mean(ssa_tfidf)"
      ],
      "execution_count": 0,
      "outputs": []
    },
    {
      "cell_type": "code",
      "metadata": {
        "id": "JoTQcjraQWQg",
        "colab_type": "code",
        "colab": {}
      },
      "source": [
        ""
      ],
      "execution_count": 0,
      "outputs": []
    }
  ]
}