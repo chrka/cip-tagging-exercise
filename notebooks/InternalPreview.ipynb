{
 "cells": [
  {
   "cell_type": "markdown",
   "metadata": {},
   "source": [
    "# Tagging Exercise\n",
    "\n",
    "Instructions and some steps pending."
   ]
  },
  {
   "cell_type": "markdown",
   "metadata": {},
   "source": [
    "## Setup"
   ]
  },
  {
   "cell_type": "raw",
   "metadata": {},
   "source": [
    "!pip install git+https://github.com/facebookresearch/fastText.git \n",
    "!pip install 'git+https://github.com/chrka/cip-tagging-exercise.git#egg=tagger&subdirectory=source'\n",
    "!wget http://citypolarna.se/event_data.csv -O /tmp/raw.csv"
   ]
  },
  {
   "cell_type": "code",
   "execution_count": 1,
   "metadata": {},
   "outputs": [
    {
     "name": "stderr",
     "output_type": "stream",
     "text": [
      "Using TensorFlow backend.\n",
      "/Users/chrka/anaconda3/envs/tagging-exercise/lib/python3.7/site-packages/tensorflow/python/framework/dtypes.py:526: FutureWarning: Passing (type, 1) or '1type' as a synonym of type is deprecated; in a future version of numpy, it will be understood as (type, (1,)) / '(1,)type'.\n",
      "  _np_qint8 = np.dtype([(\"qint8\", np.int8, 1)])\n",
      "/Users/chrka/anaconda3/envs/tagging-exercise/lib/python3.7/site-packages/tensorflow/python/framework/dtypes.py:527: FutureWarning: Passing (type, 1) or '1type' as a synonym of type is deprecated; in a future version of numpy, it will be understood as (type, (1,)) / '(1,)type'.\n",
      "  _np_quint8 = np.dtype([(\"quint8\", np.uint8, 1)])\n",
      "/Users/chrka/anaconda3/envs/tagging-exercise/lib/python3.7/site-packages/tensorflow/python/framework/dtypes.py:528: FutureWarning: Passing (type, 1) or '1type' as a synonym of type is deprecated; in a future version of numpy, it will be understood as (type, (1,)) / '(1,)type'.\n",
      "  _np_qint16 = np.dtype([(\"qint16\", np.int16, 1)])\n",
      "/Users/chrka/anaconda3/envs/tagging-exercise/lib/python3.7/site-packages/tensorflow/python/framework/dtypes.py:529: FutureWarning: Passing (type, 1) or '1type' as a synonym of type is deprecated; in a future version of numpy, it will be understood as (type, (1,)) / '(1,)type'.\n",
      "  _np_quint16 = np.dtype([(\"quint16\", np.uint16, 1)])\n",
      "/Users/chrka/anaconda3/envs/tagging-exercise/lib/python3.7/site-packages/tensorflow/python/framework/dtypes.py:530: FutureWarning: Passing (type, 1) or '1type' as a synonym of type is deprecated; in a future version of numpy, it will be understood as (type, (1,)) / '(1,)type'.\n",
      "  _np_qint32 = np.dtype([(\"qint32\", np.int32, 1)])\n",
      "/Users/chrka/anaconda3/envs/tagging-exercise/lib/python3.7/site-packages/tensorflow/python/framework/dtypes.py:535: FutureWarning: Passing (type, 1) or '1type' as a synonym of type is deprecated; in a future version of numpy, it will be understood as (type, (1,)) / '(1,)type'.\n",
      "  np_resource = np.dtype([(\"resource\", np.ubyte, 1)])\n"
     ]
    }
   ],
   "source": [
    "from tagger import *\n",
    "from sklearn.pipeline import Pipeline"
   ]
  },
  {
   "cell_type": "code",
   "execution_count": 2,
   "metadata": {},
   "outputs": [],
   "source": [
    "#!wget http://citypolarna.se/event_data.csv -O \"../data/raw/citypolarna_public_events_out.csv\""
   ]
  },
  {
   "cell_type": "code",
   "execution_count": 3,
   "metadata": {},
   "outputs": [],
   "source": [
    "from tagger.dataset.cleaning import load_datasets\n",
    "\n",
    "events_train, tags_train, events_test, tags_test, top_tags = load_datasets(\n",
    "    \"../data/raw/citypolarna_public_events_out.csv\")"
   ]
  },
  {
   "cell_type": "markdown",
   "metadata": {},
   "source": [
    "## Preprocessing"
   ]
  },
  {
   "cell_type": "code",
   "execution_count": 4,
   "metadata": {},
   "outputs": [],
   "source": [
    "baseline_preprocessing = Pipeline([\n",
    "    ('fields', ExtractText()),\n",
    "    ('html', HTMLToText()),\n",
    "    ('cset', CharacterSet(punctuation=False)),\n",
    "    ('lower', Lowercase()),\n",
    "    ('token', Tokenize())\n",
    "])"
   ]
  },
  {
   "cell_type": "code",
   "execution_count": 5,
   "metadata": {},
   "outputs": [
    {
     "data": {
      "text/plain": [
       "7318    [vi, är, några, som, tänkt, fika, på, söndag, ...\n",
       "9088    [hej, då, var, det, dags, för, en, bokklubbstr...\n",
       "4793    [pröva, på, att, dansa, kizomba, prova, på, kl...\n",
       "4553    [på, fredag, är, det, premiär, för, grand, hot...\n",
       "6068    [uppdatering, dddd, dd, dd, ändrat, sista, dat...\n",
       "1732    [intressekoll, inför, kvällen, trädgårn, klubb...\n",
       "8802    [hej, minsta, rundan, ever, haha, men, då, får...\n",
       "9183    [missa, inte, denna, intima, och, självutlämna...\n",
       "6929    [någon, som, vill, med, till, hävringe, fyr, f...\n",
       "4779    [obs, det, riskerar, att, bli, fullt, eller, n...\n",
       "Name: description, dtype: object"
      ]
     },
     "execution_count": 5,
     "metadata": {},
     "output_type": "execute_result"
    }
   ],
   "source": [
    "baseline_preprocessing.fit_transform(events_train[0:10])"
   ]
  },
  {
   "cell_type": "code",
   "execution_count": 47,
   "metadata": {},
   "outputs": [],
   "source": [
    "my_preprocessing = Pipeline([\n",
    "    ('fields', ExtractText(['title', 'description'], add_time_of_day=False)),\n",
    "    ('html', HTMLToText()),\n",
    "    ('cset', CharacterSet(punctuation=False, digits=False)),\n",
    "    ('lower', Lowercase()),\n",
    "    ('token', Tokenize()),\n",
    "    ('ngram', NGram(1, 1))\n",
    "])"
   ]
  },
  {
   "cell_type": "code",
   "execution_count": 48,
   "metadata": {},
   "outputs": [
    {
     "data": {
      "text/plain": [
       "[['fika',\n",
       "  'vi',\n",
       "  'är',\n",
       "  'några',\n",
       "  'som',\n",
       "  'tänkt',\n",
       "  'fika',\n",
       "  'på',\n",
       "  'söndag',\n",
       "  'häng',\n",
       "  'på',\n",
       "  'om',\n",
       "  'du',\n",
       "  'vill',\n",
       "  'ring',\n",
       "  'om',\n",
       "  'du',\n",
       "  'kommer',\n",
       "  'efter',\n",
       "  'dd',\n",
       "  'så',\n",
       "  'förklarar',\n",
       "  'jag',\n",
       "  'var',\n",
       "  'vi',\n",
       "  'är',\n",
       "  'dddd']]"
      ]
     },
     "execution_count": 48,
     "metadata": {},
     "output_type": "execute_result"
    }
   ],
   "source": [
    "list(my_preprocessing.fit_transform(events_train[0:1]))"
   ]
  },
  {
   "cell_type": "markdown",
   "metadata": {},
   "source": [
    "## Feature Extraction"
   ]
  },
  {
   "cell_type": "code",
   "execution_count": 49,
   "metadata": {},
   "outputs": [],
   "source": [
    "baseline_features = Pipeline([\n",
    "    ('bow', BagOfWords())\n",
    "])"
   ]
  },
  {
   "cell_type": "code",
   "execution_count": 50,
   "metadata": {},
   "outputs": [],
   "source": [
    "my_features = Pipeline([\n",
    "    #('bow', BagOfWords(binary=True))\n",
    "    ('tfidf', Tfidf())\n",
    "])"
   ]
  },
  {
   "cell_type": "markdown",
   "metadata": {},
   "source": [
    "## Classification Algorithms"
   ]
  },
  {
   "cell_type": "code",
   "execution_count": 51,
   "metadata": {},
   "outputs": [],
   "source": [
    "baseline_classifier = Pipeline([\n",
    "    ('nb', NaiveBayes())\n",
    "])"
   ]
  },
  {
   "cell_type": "code",
   "execution_count": 52,
   "metadata": {},
   "outputs": [],
   "source": [
    "my_classifier = Pipeline([\n",
    "    ('dense', SparseToDense()),\n",
    "    ('lr', MultiLayerPerceptron(layers=[1024], epochs=4, batch_size=64))\n",
    "])"
   ]
  },
  {
   "cell_type": "markdown",
   "metadata": {},
   "source": [
    "## Evaluation"
   ]
  },
  {
   "cell_type": "code",
   "execution_count": 53,
   "metadata": {},
   "outputs": [],
   "source": [
    "baseline_model = Pipeline([\n",
    "    ('pre', baseline_preprocessing),\n",
    "    ('feat', baseline_features),\n",
    "    ('clf', baseline_classifier)\n",
    "])"
   ]
  },
  {
   "cell_type": "code",
   "execution_count": 54,
   "metadata": {},
   "outputs": [
    {
     "name": "stdout",
     "output_type": "stream",
     "text": [
      "CPU times: user 3.57 s, sys: 70.7 ms, total: 3.64 s\n",
      "Wall time: 3.65 s\n"
     ]
    },
    {
     "data": {
      "text/plain": [
       "Pipeline(memory=None,\n",
       "     steps=[('pre', Pipeline(memory=None,\n",
       "     steps=[('fields', ExtractText(add_time_of_day=False, columns=['description'])), ('html', HTMLToText()), ('cset', CharacterSet(digits=False, punctuation=False)), ('lower', Lowercase()), ('token', Tokenize(method='word_punct'))])), ('feat', Pipeline(memory=None, steps=[('bow', BagOfWords(binary=False))])), ('clf', Pipeline(memory=None, steps=[('nb', NaiveBayes())]))])"
      ]
     },
     "execution_count": 54,
     "metadata": {},
     "output_type": "execute_result"
    }
   ],
   "source": [
    "%%time\n",
    "baseline_model.fit(events_train, tags_train)"
   ]
  },
  {
   "cell_type": "code",
   "execution_count": 55,
   "metadata": {},
   "outputs": [],
   "source": [
    "my_model = Pipeline([\n",
    "    ('pre', my_preprocessing),\n",
    "    ('feat', my_features),\n",
    "    ('clf', my_classifier)\n",
    "])"
   ]
  },
  {
   "cell_type": "code",
   "execution_count": 56,
   "metadata": {},
   "outputs": [
    {
     "name": "stdout",
     "output_type": "stream",
     "text": [
      "NB! Cleared Keras session — already trained models will break\n",
      "Fitting model:\n",
      "_________________________________________________________________\n",
      "Layer (type)                 Output Shape              Param #   \n",
      "=================================================================\n",
      "dense_1 (Dense)              (None, 1024)              53435392  \n",
      "_________________________________________________________________\n",
      "batch_normalization_1 (Batch (None, 1024)              4096      \n",
      "_________________________________________________________________\n",
      "dropout_1 (Dropout)          (None, 1024)              0         \n",
      "_________________________________________________________________\n",
      "dense_2 (Dense)              (None, 72)                73800     \n",
      "=================================================================\n",
      "Total params: 53,513,288\n",
      "Trainable params: 53,511,240\n",
      "Non-trainable params: 2,048\n",
      "_________________________________________________________________\n",
      "Epoch 1/4\n",
      "7464/7464 [==============================] - 128s 17ms/step - loss: 0.2126\n",
      "Epoch 2/4\n",
      "7464/7464 [==============================] - 122s 16ms/step - loss: 0.0632\n",
      "Epoch 3/4\n",
      "7464/7464 [==============================] - 122s 16ms/step - loss: 0.0336\n",
      "Epoch 4/4\n",
      "7464/7464 [==============================] - 124s 17ms/step - loss: 0.0233\n",
      "CPU times: user 59min 10s, sys: 1min, total: 1h 11s\n",
      "Wall time: 8min 20s\n"
     ]
    },
    {
     "data": {
      "text/plain": [
       "Pipeline(memory=None,\n",
       "     steps=[('pre', Pipeline(memory=None,\n",
       "     steps=[('fields', ExtractText(add_time_of_day=False, columns=['title', 'description'])), ('html', HTMLToText()), ('cset', CharacterSet(digits=False, punctuation=False)), ('lower', Lowercase()), ('token', Tokenize(method='word_punct')), ('ngram', NGram(n_max=...('dense', SparseToDense()), ('lr', MultiLayerPerceptron(batch_size=64, epochs=4, layers=[1024]))]))])"
      ]
     },
     "execution_count": 56,
     "metadata": {},
     "output_type": "execute_result"
    }
   ],
   "source": [
    "%%time\n",
    "my_model.fit(events_train, tags_train)"
   ]
  },
  {
   "cell_type": "markdown",
   "metadata": {},
   "source": [
    "## Submission"
   ]
  },
  {
   "cell_type": "code",
   "execution_count": 57,
   "metadata": {},
   "outputs": [
    {
     "name": "stdout",
     "output_type": "stream",
     "text": [
      "Team 'All your base are belong to us' submitting model 'baseline':\n",
      "Pipeline(memory=None,\n",
      "     steps=[('pre', Pipeline(memory=None,\n",
      "     steps=[('fields', ExtractText(add_time_of_day=False, columns=['description'])), ('html', HTMLToText()), ('cset', CharacterSet(digits=False, punctuation=False)), ('lower', Lowercase()), ('token', Tokenize(method='word_punct'))])), ('feat', Pipeline(memory=None, steps=[('bow', BagOfWords(binary=False))])), ('clf', Pipeline(memory=None, steps=[('nb', NaiveBayes())]))])\n",
      "------------------------------------------------------------------------\n",
      "Hamming loss for submission: 0.04233654876741694\n",
      "Exact match ratio for submission: 0.07395498392282958\n"
     ]
    }
   ],
   "source": [
    "submit_model(baseline_model, \n",
    "             team_name=\"All your base are belong to us\",\n",
    "             model_name=\"baseline\",\n",
    "             local_events=events_test,\n",
    "             local_tags=tags_test)"
   ]
  },
  {
   "cell_type": "code",
   "execution_count": 58,
   "metadata": {},
   "outputs": [
    {
     "name": "stdout",
     "output_type": "stream",
     "text": [
      "Team 'Little gray cells' submitting model '1-2-gram':\n",
      "Pipeline(memory=None,\n",
      "     steps=[('pre', Pipeline(memory=None,\n",
      "     steps=[('fields', ExtractText(add_time_of_day=False, columns=['title', 'description'])), ('html', HTMLToText()), ('cset', CharacterSet(digits=False, punctuation=False)), ('lower', Lowercase()), ('token', Tokenize(method='word_punct')), ('ngram', NGram(n_max=...('dense', SparseToDense()), ('lr', MultiLayerPerceptron(batch_size=64, epochs=4, layers=[1024]))]))])\n",
      "------------------------------------------------------------------------\n",
      "Hamming loss for submission: 0.032087352625937836\n",
      "Exact match ratio for submission: 0.2127545551982851\n"
     ]
    }
   ],
   "source": [
    "submit_model(my_model, \n",
    "             team_name=\"Little gray cells\",\n",
    "             model_name=\"1-2-gram\",\n",
    "             local_events=events_test,\n",
    "             local_tags=tags_test)"
   ]
  },
  {
   "cell_type": "markdown",
   "metadata": {},
   "source": [
    "Remember to add counts of labels somewhere to make sense of stats."
   ]
  },
  {
   "cell_type": "markdown",
   "metadata": {},
   "source": [
    "%%time\n",
    "stats = evaluate_per_label(my_model, top_tags, events_train, tags_train)\n",
    "stats"
   ]
  },
  {
   "cell_type": "code",
   "execution_count": 22,
   "metadata": {},
   "outputs": [
    {
     "data": {
      "text/html": [
       "<div>\n",
       "<style scoped>\n",
       "    .dataframe tbody tr th:only-of-type {\n",
       "        vertical-align: middle;\n",
       "    }\n",
       "\n",
       "    .dataframe tbody tr th {\n",
       "        vertical-align: top;\n",
       "    }\n",
       "\n",
       "    .dataframe thead th {\n",
       "        text-align: right;\n",
       "    }\n",
       "</style>\n",
       "<table border=\"1\" class=\"dataframe\">\n",
       "  <thead>\n",
       "    <tr style=\"text-align: right;\">\n",
       "      <th></th>\n",
       "      <th>accuracy</th>\n",
       "      <th>precision</th>\n",
       "      <th>recall</th>\n",
       "      <th>f1</th>\n",
       "      <th>auc</th>\n",
       "    </tr>\n",
       "    <tr>\n",
       "      <th>tag</th>\n",
       "      <th></th>\n",
       "      <th></th>\n",
       "      <th></th>\n",
       "      <th></th>\n",
       "      <th></th>\n",
       "    </tr>\n",
       "  </thead>\n",
       "  <tbody>\n",
       "    <tr>\n",
       "      <th>innebandy</th>\n",
       "      <td>0.998258</td>\n",
       "      <td>0.890443</td>\n",
       "      <td>0.928030</td>\n",
       "      <td>0.905250</td>\n",
       "      <td>0.963475</td>\n",
       "    </tr>\n",
       "    <tr>\n",
       "      <th>allsång</th>\n",
       "      <td>0.996517</td>\n",
       "      <td>1.000000</td>\n",
       "      <td>0.800451</td>\n",
       "      <td>0.888753</td>\n",
       "      <td>0.900226</td>\n",
       "    </tr>\n",
       "    <tr>\n",
       "      <th>träna</th>\n",
       "      <td>0.995445</td>\n",
       "      <td>0.905522</td>\n",
       "      <td>0.745098</td>\n",
       "      <td>0.817344</td>\n",
       "      <td>0.872006</td>\n",
       "    </tr>\n",
       "    <tr>\n",
       "      <th>bio</th>\n",
       "      <td>0.969051</td>\n",
       "      <td>0.900245</td>\n",
       "      <td>0.684833</td>\n",
       "      <td>0.776810</td>\n",
       "      <td>0.839147</td>\n",
       "    </tr>\n",
       "    <tr>\n",
       "      <th>poker</th>\n",
       "      <td>0.996517</td>\n",
       "      <td>0.949735</td>\n",
       "      <td>0.658440</td>\n",
       "      <td>0.766839</td>\n",
       "      <td>0.829017</td>\n",
       "    </tr>\n",
       "    <tr>\n",
       "      <th>...</th>\n",
       "      <td>...</td>\n",
       "      <td>...</td>\n",
       "      <td>...</td>\n",
       "      <td>...</td>\n",
       "      <td>...</td>\n",
       "    </tr>\n",
       "    <tr>\n",
       "      <th>vandra</th>\n",
       "      <td>0.991292</td>\n",
       "      <td>0.761905</td>\n",
       "      <td>0.063152</td>\n",
       "      <td>0.109301</td>\n",
       "      <td>0.531238</td>\n",
       "    </tr>\n",
       "    <tr>\n",
       "      <th>foto</th>\n",
       "      <td>0.988210</td>\n",
       "      <td>0.666667</td>\n",
       "      <td>0.048611</td>\n",
       "      <td>0.090498</td>\n",
       "      <td>0.524306</td>\n",
       "    </tr>\n",
       "    <tr>\n",
       "      <th>konst</th>\n",
       "      <td>0.973339</td>\n",
       "      <td>0.888889</td>\n",
       "      <td>0.048083</td>\n",
       "      <td>0.090866</td>\n",
       "      <td>0.523973</td>\n",
       "    </tr>\n",
       "    <tr>\n",
       "      <th>livemusik</th>\n",
       "      <td>0.985531</td>\n",
       "      <td>0.833333</td>\n",
       "      <td>0.038457</td>\n",
       "      <td>0.071682</td>\n",
       "      <td>0.519093</td>\n",
       "    </tr>\n",
       "    <tr>\n",
       "      <th>musuem</th>\n",
       "      <td>0.988344</td>\n",
       "      <td>0.111111</td>\n",
       "      <td>0.009009</td>\n",
       "      <td>0.016667</td>\n",
       "      <td>0.504301</td>\n",
       "    </tr>\n",
       "  </tbody>\n",
       "</table>\n",
       "<p>72 rows × 5 columns</p>\n",
       "</div>"
      ],
      "text/plain": [
       "           accuracy  precision    recall        f1       auc\n",
       "tag                                                         \n",
       "innebandy  0.998258   0.890443  0.928030  0.905250  0.963475\n",
       "allsång    0.996517   1.000000  0.800451  0.888753  0.900226\n",
       "träna      0.995445   0.905522  0.745098  0.817344  0.872006\n",
       "bio        0.969051   0.900245  0.684833  0.776810  0.839147\n",
       "poker      0.996517   0.949735  0.658440  0.766839  0.829017\n",
       "...             ...        ...       ...       ...       ...\n",
       "vandra     0.991292   0.761905  0.063152  0.109301  0.531238\n",
       "foto       0.988210   0.666667  0.048611  0.090498  0.524306\n",
       "konst      0.973339   0.888889  0.048083  0.090866  0.523973\n",
       "livemusik  0.985531   0.833333  0.038457  0.071682  0.519093\n",
       "musuem     0.988344   0.111111  0.009009  0.016667  0.504301\n",
       "\n",
       "[72 rows x 5 columns]"
      ]
     },
     "execution_count": 22,
     "metadata": {},
     "output_type": "execute_result"
    }
   ],
   "source": [
    "stats.sort_values('auc', ascending=False)"
   ]
  },
  {
   "cell_type": "markdown",
   "metadata": {},
   "source": [
    "# (Testing)"
   ]
  },
  {
   "cell_type": "code",
   "execution_count": 59,
   "metadata": {},
   "outputs": [],
   "source": [
    "from tagger._evaluation.perlabel import _per_label_metrics as plm"
   ]
  },
  {
   "cell_type": "code",
   "execution_count": 60,
   "metadata": {},
   "outputs": [],
   "source": [
    "y_pred = my_model.predict(events_test)"
   ]
  },
  {
   "cell_type": "code",
   "execution_count": 61,
   "metadata": {},
   "outputs": [
    {
     "data": {
      "text/html": [
       "<div>\n",
       "<style scoped>\n",
       "    .dataframe tbody tr th:only-of-type {\n",
       "        vertical-align: middle;\n",
       "    }\n",
       "\n",
       "    .dataframe tbody tr th {\n",
       "        vertical-align: top;\n",
       "    }\n",
       "\n",
       "    .dataframe thead th {\n",
       "        text-align: right;\n",
       "    }\n",
       "</style>\n",
       "<table border=\"1\" class=\"dataframe\">\n",
       "  <thead>\n",
       "    <tr style=\"text-align: right;\">\n",
       "      <th></th>\n",
       "      <th>tag</th>\n",
       "      <th>accuracy</th>\n",
       "      <th>precision</th>\n",
       "      <th>recall</th>\n",
       "      <th>f1</th>\n",
       "      <th>auc</th>\n",
       "    </tr>\n",
       "  </thead>\n",
       "  <tbody>\n",
       "    <tr>\n",
       "      <th>0</th>\n",
       "      <td>mat</td>\n",
       "      <td>0.775456</td>\n",
       "      <td>0.734475</td>\n",
       "      <td>0.800467</td>\n",
       "      <td>0.766052</td>\n",
       "      <td>0.777339</td>\n",
       "    </tr>\n",
       "    <tr>\n",
       "      <th>1</th>\n",
       "      <td>musik</td>\n",
       "      <td>0.832797</td>\n",
       "      <td>0.765189</td>\n",
       "      <td>0.733858</td>\n",
       "      <td>0.749196</td>\n",
       "      <td>0.808846</td>\n",
       "    </tr>\n",
       "    <tr>\n",
       "      <th>2</th>\n",
       "      <td>fest</td>\n",
       "      <td>0.833333</td>\n",
       "      <td>0.705426</td>\n",
       "      <td>0.580851</td>\n",
       "      <td>0.637106</td>\n",
       "      <td>0.749595</td>\n",
       "    </tr>\n",
       "    <tr>\n",
       "      <th>3</th>\n",
       "      <td>fika</td>\n",
       "      <td>0.851554</td>\n",
       "      <td>0.766497</td>\n",
       "      <td>0.620123</td>\n",
       "      <td>0.685585</td>\n",
       "      <td>0.776704</td>\n",
       "    </tr>\n",
       "    <tr>\n",
       "      <th>4</th>\n",
       "      <td>teater</td>\n",
       "      <td>0.857449</td>\n",
       "      <td>0.795666</td>\n",
       "      <td>0.562363</td>\n",
       "      <td>0.658974</td>\n",
       "      <td>0.757761</td>\n",
       "    </tr>\n",
       "    <tr>\n",
       "      <th>...</th>\n",
       "      <td>...</td>\n",
       "      <td>...</td>\n",
       "      <td>...</td>\n",
       "      <td>...</td>\n",
       "      <td>...</td>\n",
       "      <td>...</td>\n",
       "    </tr>\n",
       "    <tr>\n",
       "      <th>67</th>\n",
       "      <td>innebandy</td>\n",
       "      <td>0.998392</td>\n",
       "      <td>0.882353</td>\n",
       "      <td>0.937500</td>\n",
       "      <td>0.909091</td>\n",
       "      <td>0.968209</td>\n",
       "    </tr>\n",
       "    <tr>\n",
       "      <th>68</th>\n",
       "      <td>vandra</td>\n",
       "      <td>0.989282</td>\n",
       "      <td>0.333333</td>\n",
       "      <td>0.052632</td>\n",
       "      <td>0.090909</td>\n",
       "      <td>0.525774</td>\n",
       "    </tr>\n",
       "    <tr>\n",
       "      <th>69</th>\n",
       "      <td>poker</td>\n",
       "      <td>0.997856</td>\n",
       "      <td>1.000000</td>\n",
       "      <td>0.714286</td>\n",
       "      <td>0.833333</td>\n",
       "      <td>0.857143</td>\n",
       "    </tr>\n",
       "    <tr>\n",
       "      <th>70</th>\n",
       "      <td>vernissage</td>\n",
       "      <td>0.990354</td>\n",
       "      <td>1.000000</td>\n",
       "      <td>0.217391</td>\n",
       "      <td>0.357143</td>\n",
       "      <td>0.608696</td>\n",
       "    </tr>\n",
       "    <tr>\n",
       "      <th>71</th>\n",
       "      <td>pass</td>\n",
       "      <td>0.989818</td>\n",
       "      <td>0.500000</td>\n",
       "      <td>0.052632</td>\n",
       "      <td>0.095238</td>\n",
       "      <td>0.526045</td>\n",
       "    </tr>\n",
       "  </tbody>\n",
       "</table>\n",
       "<p>72 rows × 6 columns</p>\n",
       "</div>"
      ],
      "text/plain": [
       "           tag  accuracy  precision    recall        f1       auc\n",
       "0          mat  0.775456   0.734475  0.800467  0.766052  0.777339\n",
       "1        musik  0.832797   0.765189  0.733858  0.749196  0.808846\n",
       "2         fest  0.833333   0.705426  0.580851  0.637106  0.749595\n",
       "3         fika  0.851554   0.766497  0.620123  0.685585  0.776704\n",
       "4       teater  0.857449   0.795666  0.562363  0.658974  0.757761\n",
       "..         ...       ...        ...       ...       ...       ...\n",
       "67   innebandy  0.998392   0.882353  0.937500  0.909091  0.968209\n",
       "68      vandra  0.989282   0.333333  0.052632  0.090909  0.525774\n",
       "69       poker  0.997856   1.000000  0.714286  0.833333  0.857143\n",
       "70  vernissage  0.990354   1.000000  0.217391  0.357143  0.608696\n",
       "71        pass  0.989818   0.500000  0.052632  0.095238  0.526045\n",
       "\n",
       "[72 rows x 6 columns]"
      ]
     },
     "execution_count": 61,
     "metadata": {},
     "output_type": "execute_result"
    }
   ],
   "source": [
    "import pandas as pd\n",
    "pd.DataFrame(plm(top_tags, tags_test, y_pred))"
   ]
  },
  {
   "cell_type": "code",
   "execution_count": null,
   "metadata": {},
   "outputs": [],
   "source": []
  }
 ],
 "metadata": {
  "kernelspec": {
   "display_name": "Python 3",
   "language": "python",
   "name": "python3"
  },
  "language_info": {
   "codemirror_mode": {
    "name": "ipython",
    "version": 3
   },
   "file_extension": ".py",
   "mimetype": "text/x-python",
   "name": "python",
   "nbconvert_exporter": "python",
   "pygments_lexer": "ipython3",
   "version": "3.7.6"
  }
 },
 "nbformat": 4,
 "nbformat_minor": 4
}
